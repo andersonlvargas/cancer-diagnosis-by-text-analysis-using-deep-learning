{
 "cells": [
  {
   "cell_type": "code",
   "execution_count": 1,
   "id": "3287972e",
   "metadata": {},
   "outputs": [],
   "source": [
    "##pacotes nescessários\n",
    "import pandas as pd\n",
    "from sklearn.model_selection import train_test_split\n",
    "from keras.preprocessing.text import Tokenizer\n",
    "from tensorflow.keras.preprocessing.sequence import pad_sequences\n",
    "from keras.models import Sequential\n",
    "from keras.layers import Embedding, LSTM, Dense, Conv1D, GlobalMaxPooling1D, Dropout, GlobalAveragePooling1D, Bidirectional, GRU"
   ]
  },
  {
   "cell_type": "code",
   "execution_count": 2,
   "id": "4873bf18",
   "metadata": {},
   "outputs": [],
   "source": [
    "##importando os dados\n",
    "df_texto = pd.read_csv(r\"C:\\Users\\ander\\Documents\\projetos data science\\projeto genética\\textos_tratados.csv\", delimiter=';',\n",
    "                      header = None)"
   ]
  },
  {
   "cell_type": "code",
   "execution_count": 3,
   "id": "dd4fddb4",
   "metadata": {},
   "outputs": [],
   "source": [
    "df_dado = pd.read_csv(r\"msk-redefining-cancer-treatment\\training_variants.zip\", header = 0)"
   ]
  },
  {
   "cell_type": "code",
   "execution_count": 4,
   "id": "fb92c5d1",
   "metadata": {},
   "outputs": [],
   "source": [
    "df = pd.merge(df_dado, df_texto, how = \"inner\", left_index=True, right_index=True).fillna(\"\")"
   ]
  },
  {
   "cell_type": "code",
   "execution_count": 5,
   "id": "9534784c",
   "metadata": {},
   "outputs": [],
   "source": [
    "df.rename(columns={ 0 : 'Texto'}, inplace = True)"
   ]
  },
  {
   "cell_type": "code",
   "execution_count": 6,
   "id": "8a96699f",
   "metadata": {},
   "outputs": [
    {
     "data": {
      "text/html": [
       "<div>\n",
       "<style scoped>\n",
       "    .dataframe tbody tr th:only-of-type {\n",
       "        vertical-align: middle;\n",
       "    }\n",
       "\n",
       "    .dataframe tbody tr th {\n",
       "        vertical-align: top;\n",
       "    }\n",
       "\n",
       "    .dataframe thead th {\n",
       "        text-align: right;\n",
       "    }\n",
       "</style>\n",
       "<table border=\"1\" class=\"dataframe\">\n",
       "  <thead>\n",
       "    <tr style=\"text-align: right;\">\n",
       "      <th></th>\n",
       "      <th>ID</th>\n",
       "      <th>Gene</th>\n",
       "      <th>Variation</th>\n",
       "      <th>Class</th>\n",
       "      <th>Texto</th>\n",
       "    </tr>\n",
       "  </thead>\n",
       "  <tbody>\n",
       "    <tr>\n",
       "      <th>0</th>\n",
       "      <td>0</td>\n",
       "      <td>FAM58A</td>\n",
       "      <td>Truncating Mutations</td>\n",
       "      <td>1</td>\n",
       "      <td>cyclin,depend,kinas,cdk,regul,varieti,fundamen...</td>\n",
       "    </tr>\n",
       "    <tr>\n",
       "      <th>1</th>\n",
       "      <td>1</td>\n",
       "      <td>CBL</td>\n",
       "      <td>W802*</td>\n",
       "      <td>2</td>\n",
       "      <td>abstract,background,non,small,cell,lung,cancer...</td>\n",
       "    </tr>\n",
       "    <tr>\n",
       "      <th>2</th>\n",
       "      <td>2</td>\n",
       "      <td>CBL</td>\n",
       "      <td>Q249E</td>\n",
       "      <td>2</td>\n",
       "      <td>abstract,background,non,small,cell,lung,cancer...</td>\n",
       "    </tr>\n",
       "    <tr>\n",
       "      <th>3</th>\n",
       "      <td>3</td>\n",
       "      <td>CBL</td>\n",
       "      <td>N454D</td>\n",
       "      <td>3</td>\n",
       "      <td>recent,evid,demonstr,acquir,uniparent,disomi,a...</td>\n",
       "    </tr>\n",
       "    <tr>\n",
       "      <th>4</th>\n",
       "      <td>4</td>\n",
       "      <td>CBL</td>\n",
       "      <td>L399V</td>\n",
       "      <td>4</td>\n",
       "      <td>oncogen,mutat,monomer,casita,b,lineag,lymphoma...</td>\n",
       "    </tr>\n",
       "  </tbody>\n",
       "</table>\n",
       "</div>"
      ],
      "text/plain": [
       "   ID    Gene             Variation  Class  \\\n",
       "0   0  FAM58A  Truncating Mutations      1   \n",
       "1   1     CBL                 W802*      2   \n",
       "2   2     CBL                 Q249E      2   \n",
       "3   3     CBL                 N454D      3   \n",
       "4   4     CBL                 L399V      4   \n",
       "\n",
       "                                               Texto  \n",
       "0  cyclin,depend,kinas,cdk,regul,varieti,fundamen...  \n",
       "1  abstract,background,non,small,cell,lung,cancer...  \n",
       "2  abstract,background,non,small,cell,lung,cancer...  \n",
       "3  recent,evid,demonstr,acquir,uniparent,disomi,a...  \n",
       "4  oncogen,mutat,monomer,casita,b,lineag,lymphoma...  "
      ]
     },
     "execution_count": 6,
     "metadata": {},
     "output_type": "execute_result"
    }
   ],
   "source": [
    "df.head()"
   ]
  },
  {
   "cell_type": "code",
   "execution_count": 7,
   "id": "3a158dc4",
   "metadata": {},
   "outputs": [],
   "source": [
    "max_features = 500 # Número máximo de palavras a serem mantidas no vocabulário\n",
    "max_seq_len = 1000 # Comprimento máximo das sequências de entrada\n",
    "embedding_dim = 100 # Tamanho da dimensão de embedding\n",
    "num_filters = 64 # Número de filtros na camada de convolução\n",
    "filter_size = 5 # Tamanho do filtro na camada de convolução"
   ]
  },
  {
   "cell_type": "code",
   "execution_count": 8,
   "id": "393bc7e5",
   "metadata": {},
   "outputs": [],
   "source": [
    "# Dividindo o conjunto de dados em treino e teste\n",
    "X = df[['Texto', \"Gene\"]]\n",
    "y = df['Class']"
   ]
  },
  {
   "cell_type": "code",
   "execution_count": 9,
   "id": "3645532b",
   "metadata": {},
   "outputs": [],
   "source": [
    "y = pd.get_dummies(y)"
   ]
  },
  {
   "cell_type": "code",
   "execution_count": 10,
   "id": "25ed2ad3",
   "metadata": {},
   "outputs": [],
   "source": [
    "X_train_cru, X_test_cru, y_train, y_test = train_test_split(X, y, test_size=0.2, random_state=0)"
   ]
  },
  {
   "cell_type": "code",
   "execution_count": 11,
   "id": "66090d47",
   "metadata": {},
   "outputs": [],
   "source": [
    "##tokenizando\n",
    "tokenizer = Tokenizer(num_words=max_features)\n",
    "tokenizer.fit_on_texts([str(x) for x in X_train_cru['Texto'].tolist()])"
   ]
  },
  {
   "cell_type": "code",
   "execution_count": 12,
   "id": "e578818d",
   "metadata": {},
   "outputs": [],
   "source": [
    "X_train_token = tokenizer.texts_to_sequences([str(x) for x in X_train_cru['Texto'].tolist()])\n",
    "X_test_token = tokenizer.texts_to_sequences([str(x) for x in X_test_cru['Texto'].tolist()])"
   ]
  },
  {
   "cell_type": "code",
   "execution_count": 13,
   "id": "0acc8578",
   "metadata": {},
   "outputs": [],
   "source": [
    "# Padronizando o tamanho das sequências usando o pad_sequences\n",
    "X_train_token = pd.DataFrame(pad_sequences(X_train_token, maxlen= 1000))\n",
    "X_test_token = pd.DataFrame(pad_sequences(X_test_token, maxlen= 1000))"
   ]
  },
  {
   "cell_type": "code",
   "execution_count": 14,
   "id": "1abd3127",
   "metadata": {},
   "outputs": [],
   "source": [
    "##fazer o encoding dos dados de entrada \n",
    "from sklearn.preprocessing import LabelEncoder\n",
    "\n",
    "le = LabelEncoder()\n",
    "\n",
    "le.fit(df[\"Gene\"])\n",
    "\n",
    "X_train_encoded = pd.DataFrame(le.transform(X_train_cru[\"Gene\"]))\n",
    "\n",
    "X_test_encoded = pd.DataFrame(le.transform(X_test_cru[\"Gene\"]))"
   ]
  },
  {
   "cell_type": "code",
   "execution_count": 15,
   "id": "ce02593b",
   "metadata": {},
   "outputs": [],
   "source": [
    "## juntando tokenizado com encodado\n",
    "\n",
    "X_train_token[\"Gene\"] = X_train_encoded"
   ]
  },
  {
   "cell_type": "code",
   "execution_count": 16,
   "id": "558f53fb",
   "metadata": {},
   "outputs": [],
   "source": [
    "X_test_token[\"Gene\"] = X_test_encoded"
   ]
  },
  {
   "cell_type": "code",
   "execution_count": 17,
   "id": "d30126e1",
   "metadata": {},
   "outputs": [],
   "source": [
    "X_train = X_train_token.values\n",
    "X_test = X_test_token.values"
   ]
  },
  {
   "cell_type": "code",
   "execution_count": 18,
   "id": "62321e72",
   "metadata": {},
   "outputs": [],
   "source": [
    "max_features = 1000 # Número máximo de palavras a serem mantidas no vocabulário\n",
    "max_seq_len = 1000 # Comprimento máximo das sequências de entrada\n",
    "embedding_dim = 50 # Tamanho da dimensão de embedding\n",
    "num_filters = 64 # Número de filtros na camada de convolução\n",
    "filter_size = 5 # Tamanho do filtro na camada de convolução\n",
    "\n",
    "vocab_size = len(tokenizer.word_index) + 1 # tamanho do vocabulário\n",
    "lstm_units = 64 # unidades da LSTM\n",
    "\n",
    "maxlen = 80  # cut texts after this number of words (among top max_features most common words)\n"
   ]
  },
  {
   "cell_type": "code",
   "execution_count": 19,
   "id": "3d31d47f",
   "metadata": {},
   "outputs": [],
   "source": [
    "model = Sequential()\n",
    "model.add(Embedding(max_features, embedding_dim, input_length= (max_seq_len + 1)))\n",
    "model.add(Conv1D(num_filters, filter_size, activation='relu'))\n",
    "model.add(GlobalMaxPooling1D())\n",
    "model.add(Dense(64, activation='relu'))\n",
    "model.add(Dropout(0.5))\n",
    "model.add(Dense(64, activation='relu'))\n",
    "model.add(Dropout(0.2))\n",
    "model.add(Dense(9, activation='softmax'))"
   ]
  },
  {
   "cell_type": "code",
   "execution_count": 49,
   "id": "ea1ecb33",
   "metadata": {},
   "outputs": [],
   "source": [
    "model = Sequential()\n",
    "model.add(Embedding(max_features, embedding_dim, input_length= (max_seq_len + 1)))\n",
    "model.add(LSTM(lstm_units))\n",
    "model.add(Dense(64, activation='relu'))\n",
    "model.add(Dropout(0.5))\n",
    "model.add(Dense(9, activation=\"softmax\"))"
   ]
  },
  {
   "cell_type": "code",
   "execution_count": 69,
   "id": "01ec3290",
   "metadata": {},
   "outputs": [],
   "source": [
    "model = Sequential()\n",
    "model.add(Embedding(max_features, embedding_dim, input_length= (max_seq_len + 1)))\n",
    "model.add(Bidirectional(LSTM(64)))\n",
    "model.add(Dense(9, activation='softmax'))"
   ]
  },
  {
   "cell_type": "code",
   "execution_count": 20,
   "id": "406fcc9c",
   "metadata": {},
   "outputs": [],
   "source": [
    "model = Sequential()\n",
    "model.add(Embedding(max_features, embedding_dim, input_length= (max_seq_len + 1)))\n",
    "model.add(Bidirectional(LSTM(32, return_sequences=True))) #. input_shape = (None, *x_train.shape) ,\n",
    "model.add(Dropout(0.20))\n",
    "model.add(Bidirectional(LSTM(32, return_sequences=False, name=\"three\")))\n",
    "model.add(Dropout(0.10))\n",
    "model.add(Dense(32, activation='relu'))\n",
    "model.add(Dropout(0.10))\n",
    "model.add(Dense(9, activation='sigmoid'))\n",
    "opt = SGD(learning_rate = 0, momentum = 0.1)"
   ]
  },
  {
   "cell_type": "code",
   "execution_count": 21,
   "id": "bb42ef89",
   "metadata": {},
   "outputs": [],
   "source": [
    "model.compile(loss='categorical_crossentropy', optimizer=opt, metrics=['accuracy'])"
   ]
  },
  {
   "cell_type": "code",
   "execution_count": 22,
   "id": "52ad0ae1",
   "metadata": {
    "scrolled": true
   },
   "outputs": [
    {
     "name": "stdout",
     "output_type": "stream",
     "text": [
      "Epoch 1/20\n",
      "266/266 [==============================] - 578s 2s/step - loss: 1.7389 - accuracy: 0.3547 - val_loss: 1.5344 - val_accuracy: 0.4226\n",
      "Epoch 2/20\n",
      "266/266 [==============================] - 517s 2s/step - loss: 1.3775 - accuracy: 0.4981 - val_loss: 1.3878 - val_accuracy: 0.4857\n",
      "Epoch 3/20\n",
      "266/266 [==============================] - 465s 2s/step - loss: 1.2214 - accuracy: 0.5587 - val_loss: 1.3204 - val_accuracy: 0.5263\n",
      "Epoch 4/20\n",
      "266/266 [==============================] - 503s 2s/step - loss: 1.1235 - accuracy: 0.5956 - val_loss: 1.3180 - val_accuracy: 0.5263\n",
      "Epoch 5/20\n",
      "266/266 [==============================] - 526s 2s/step - loss: 1.0310 - accuracy: 0.6340 - val_loss: 1.3429 - val_accuracy: 0.5278\n",
      "Epoch 6/20\n",
      "266/266 [==============================] - 519s 2s/step - loss: 0.9568 - accuracy: 0.6604 - val_loss: 1.2798 - val_accuracy: 0.5534\n",
      "Epoch 7/20\n",
      "266/266 [==============================] - 490s 2s/step - loss: 0.8866 - accuracy: 0.6841 - val_loss: 1.2796 - val_accuracy: 0.5504\n",
      "Epoch 8/20\n",
      "266/266 [==============================] - 513s 2s/step - loss: 0.8232 - accuracy: 0.6984 - val_loss: 1.3269 - val_accuracy: 0.5278\n",
      "Epoch 9/20\n",
      "266/266 [==============================] - 496s 2s/step - loss: 0.7816 - accuracy: 0.7105 - val_loss: 1.3911 - val_accuracy: 0.5444\n",
      "Epoch 10/20\n",
      "266/266 [==============================] - 484s 2s/step - loss: 0.7453 - accuracy: 0.7368 - val_loss: 1.3221 - val_accuracy: 0.5654\n",
      "Epoch 11/20\n",
      "266/266 [==============================] - 495s 2s/step - loss: 0.6970 - accuracy: 0.7440 - val_loss: 1.3989 - val_accuracy: 0.5429\n",
      "Epoch 12/20\n",
      "266/266 [==============================] - 440s 2s/step - loss: 0.6648 - accuracy: 0.7598 - val_loss: 1.4308 - val_accuracy: 0.5609\n",
      "Epoch 13/20\n",
      "266/266 [==============================] - 419s 2s/step - loss: 0.6316 - accuracy: 0.7643 - val_loss: 1.4556 - val_accuracy: 0.5549\n",
      "Epoch 14/20\n",
      "266/266 [==============================] - 282s 1s/step - loss: 0.6215 - accuracy: 0.7696 - val_loss: 1.5311 - val_accuracy: 0.5459\n",
      "Epoch 15/20\n",
      "266/266 [==============================] - 296s 1s/step - loss: 0.5984 - accuracy: 0.7722 - val_loss: 1.4886 - val_accuracy: 0.5820\n",
      "Epoch 16/20\n",
      "266/266 [==============================] - 296s 1s/step - loss: 0.5827 - accuracy: 0.7794 - val_loss: 1.4812 - val_accuracy: 0.5865\n",
      "Epoch 17/20\n",
      "266/266 [==============================] - 348s 1s/step - loss: 0.5630 - accuracy: 0.7880 - val_loss: 1.5710 - val_accuracy: 0.5609\n",
      "Epoch 18/20\n",
      "266/266 [==============================] - 333s 1s/step - loss: 0.5618 - accuracy: 0.7782 - val_loss: 1.5230 - val_accuracy: 0.5609\n",
      "Epoch 19/20\n",
      "266/266 [==============================] - 300s 1s/step - loss: 0.5366 - accuracy: 0.7937 - val_loss: 1.5294 - val_accuracy: 0.5699\n",
      "Epoch 20/20\n",
      "266/266 [==============================] - 286s 1s/step - loss: 0.5257 - accuracy: 0.7914 - val_loss: 1.6454 - val_accuracy: 0.5835\n"
     ]
    }
   ],
   "source": [
    "modelo = model.fit(X_train_token, y_train, batch_size=25, epochs=50, validation_data=(X_test_token, y_test))"
   ]
  },
  {
   "cell_type": "code",
   "execution_count": 23,
   "id": "ca8d7b02",
   "metadata": {},
   "outputs": [
    {
     "name": "stdout",
     "output_type": "stream",
     "text": [
      "67/67 [==============================] - 15s 178ms/step - loss: 1.6454 - accuracy: 0.5835\n",
      "Test score: 1.645367980003357\n",
      "Test accuracy: 0.583458662033081\n"
     ]
    }
   ],
   "source": [
    "score, acc = model.evaluate(X_test_token, y_test,\n",
    "                            batch_size=10)\n",
    "print('Test score:', score)\n",
    "print('Test accuracy:', acc)"
   ]
  }
 ],
 "metadata": {
  "kernelspec": {
   "display_name": "Python 3 (ipykernel)",
   "language": "python",
   "name": "python3"
  },
  "language_info": {
   "codemirror_mode": {
    "name": "ipython",
    "version": 3
   },
   "file_extension": ".py",
   "mimetype": "text/x-python",
   "name": "python",
   "nbconvert_exporter": "python",
   "pygments_lexer": "ipython3",
   "version": "3.9.7"
  }
 },
 "nbformat": 4,
 "nbformat_minor": 5
}
